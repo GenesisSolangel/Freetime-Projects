{
 "cells": [
  {
   "cell_type": "markdown",
   "id": "59c88101-7c01-42a6-b316-69f24b8802ae",
   "metadata": {},
   "source": [
    "## MySQL - Airlines 2\n",
    "\n",
    "Para el ejercicio de esta semana vamos a poblar las tablas de la base de datos generadas la semana pasada, usando la información de los siguientes archivos **.csv**:\n",
    "- _**tabla_aerolinea.csv**_\n",
    "- _**tabla_aeropuertos.csv**_\n",
    "- _**tabla_distancias.csv**_\n",
    "- _**tabla_estados.csv**_\n",
    "- _**tabla_vuelos.csv**_\n",
    "\n",
    "En **Python** escribe el código para poblar cada tabla. Toma en cuenta el tipo de dato para cada columna y si existen o no **constraints**.\n",
    "\n",
    "Una vez llenas las tablas en **MySQL** contesta las siguiente preguntas usando código **SQL**:\n",
    "\n",
    "1. ¿Que 5 aerolineas tienes el tamaño de flota más grande?\n",
    "2. ¿Que distancia (en millas) tardaría en ir desde **ATL** a **JAN**?\n",
    "3. ¿Cual es la distancia más grande entre 2 aeropuertos? \n",
    "4. ¿Qué ciudad tiene más aeropuertos?\n",
    "5. Usando la tabla de **vuelos**, ¿Que **aerolinea** tuvo la mayor cantidad de vuelos en todas las fechas?\n",
    "6. ¿Cuantas millas se recorrieron en total el día **2021-12-31**?\n",
    "7. Muestra en orden los 5 días con más retrasos y la media de retraso para cada día.\n",
    "8. Muestra los nombres de las 10 aerolineas que tenga menos retraso que la media.\n",
    "\n",
    "**Escribe en el notebook el código de SQL para cada query.**"
   ]
  },
  {
   "cell_type": "code",
   "execution_count": 1,
   "id": "77e26c45-a8bc-44a1-9eba-f670e62cf05c",
   "metadata": {},
   "outputs": [],
   "source": [
    "import numpy as np\n",
    "import pandas as pd\n",
    "\n",
    "import mysql.connector\n",
    "\n",
    "df_aerolineas = pd.read_csv(\"tabla_aerolineas.csv\")\n",
    "df_aeropuertos = pd.read_csv(\"tabla_aeropuertos.csv\")\n",
    "df_distancias= pd.read_csv(\"tabla_distancias.csv\")\n",
    "df_estados = pd.read_csv(\"tabla_estados.csv\")\n",
    "df_vuelos= pd.read_csv(\"tabla_vuelos.csv\")"
   ]
  },
  {
   "cell_type": "markdown",
   "id": "303062ba",
   "metadata": {},
   "source": [
    "Para realizar esta tarea primero debemos limpiar nuestros dataframes. Empezaremos cambiando los nombres de las columnas, para que coincidan con el nombre que tienen en la base de datos de SQL:"
   ]
  },
  {
   "cell_type": "code",
   "execution_count": 2,
   "id": "76ae132e",
   "metadata": {},
   "outputs": [],
   "source": [
    "df_aerolineas = df_aerolineas.rename(columns={\"ICAO\": \"icao\", \"IATA\": \"iata\", \"Group\": \"air_group\", \"Base\": \"base\", \"average_fleet_Age\": \"average_fleet_age\"})"
   ]
  },
  {
   "cell_type": "markdown",
   "id": "c9a27830",
   "metadata": {},
   "source": [
    "También debemos corregir el tipo de dato de las columnas founded, started_operations y fleet_size."
   ]
  },
  {
   "cell_type": "code",
   "execution_count": 3,
   "id": "ca8cc233",
   "metadata": {},
   "outputs": [],
   "source": [
    "df_aerolineas['founded'] = df_aerolineas['founded'].astype('Int64')\n",
    "df_aerolineas['started_operations'] = df_aerolineas['started_operations'].astype('Int64')\n",
    "df_aerolineas['fleet_size'] = df_aerolineas['fleet_size'].astype('float64')"
   ]
  },
  {
   "cell_type": "markdown",
   "id": "821313a2",
   "metadata": {},
   "source": [
    "Ahora, en el dataframe de estados lo único que debemos corregir son las filas duplicadas, las cuales debemos eliminar. De esta manera, pasamos de tener 363 filas a sólo 54."
   ]
  },
  {
   "cell_type": "code",
   "execution_count": 4,
   "id": "d4d3fff2",
   "metadata": {},
   "outputs": [
    {
     "name": "stdout",
     "output_type": "stream",
     "text": [
      "<class 'pandas.core.frame.DataFrame'>\n",
      "RangeIndex: 363 entries, 0 to 362\n",
      "Data columns (total 2 columns):\n",
      " #   Column         Non-Null Count  Dtype \n",
      "---  ------         --------------  ----- \n",
      " 0   estado         363 non-null    object\n",
      " 1   nombre_estado  363 non-null    object\n",
      "dtypes: object(2)\n",
      "memory usage: 5.8+ KB\n"
     ]
    }
   ],
   "source": [
    "df_estados.info()"
   ]
  },
  {
   "cell_type": "code",
   "execution_count": 5,
   "id": "f552ff8b",
   "metadata": {},
   "outputs": [
    {
     "data": {
      "text/plain": [
       "54"
      ]
     },
     "execution_count": 5,
     "metadata": {},
     "output_type": "execute_result"
    }
   ],
   "source": [
    "df_estados[\"estado\"].nunique()"
   ]
  },
  {
   "cell_type": "code",
   "execution_count": 6,
   "id": "83635ffb",
   "metadata": {},
   "outputs": [
    {
     "name": "stdout",
     "output_type": "stream",
     "text": [
      "<class 'pandas.core.frame.DataFrame'>\n",
      "Index: 54 entries, 0 to 339\n",
      "Data columns (total 2 columns):\n",
      " #   Column         Non-Null Count  Dtype \n",
      "---  ------         --------------  ----- \n",
      " 0   estado         54 non-null     object\n",
      " 1   nombre_estado  54 non-null     object\n",
      "dtypes: object(2)\n",
      "memory usage: 1.3+ KB\n"
     ]
    }
   ],
   "source": [
    "df_estados = df_estados.drop_duplicates()\n",
    "df_estados.info()"
   ]
  },
  {
   "cell_type": "markdown",
   "id": "fcc0533e",
   "metadata": {},
   "source": [
    "En el dataframe de aeropuertos volvemos a tener que cambiar el nombre de una columna:"
   ]
  },
  {
   "cell_type": "code",
   "execution_count": 7,
   "id": "4c3af240",
   "metadata": {},
   "outputs": [],
   "source": [
    "df_aeropuertos = df_aeropuertos.rename(columns={\"latitude\": \"latitud\"})"
   ]
  },
  {
   "cell_type": "markdown",
   "id": "8cf5a98f",
   "metadata": {},
   "source": [
    "Del dataframe de distancias eliminaremos las filas en los que hay valores faltantes, ya que no tiene sentido saber la distancia entre un aeropuerto y otro del que no sabemos su nombre."
   ]
  },
  {
   "cell_type": "code",
   "execution_count": 8,
   "id": "6ea494d1",
   "metadata": {},
   "outputs": [],
   "source": [
    "df_distancias = df_distancias.dropna(subset=[\"aeropuerto_origen\", \"aeropuerto_destino\"])"
   ]
  },
  {
   "cell_type": "code",
   "execution_count": 9,
   "id": "ebb190a2",
   "metadata": {},
   "outputs": [
    {
     "name": "stdout",
     "output_type": "stream",
     "text": [
      "<class 'pandas.core.frame.DataFrame'>\n",
      "Index: 5934 entries, 0 to 5957\n",
      "Data columns (total 3 columns):\n",
      " #   Column              Non-Null Count  Dtype  \n",
      "---  ------              --------------  -----  \n",
      " 0   distancia_millas    5934 non-null   float64\n",
      " 1   aeropuerto_origen   5934 non-null   object \n",
      " 2   aeropuerto_destino  5934 non-null   object \n",
      "dtypes: float64(1), object(2)\n",
      "memory usage: 185.4+ KB\n"
     ]
    }
   ],
   "source": [
    "df_distancias.info()"
   ]
  },
  {
   "cell_type": "markdown",
   "id": "345fae77",
   "metadata": {},
   "source": [
    "Además, eliminaremos las filas que contengan información duplicada:"
   ]
  },
  {
   "cell_type": "code",
   "execution_count": 10,
   "id": "491e4ab6",
   "metadata": {},
   "outputs": [],
   "source": [
    "df_distancias[\"sorted_key\"] = df_distancias.apply(lambda row: tuple(sorted([row[\"aeropuerto_origen\"], row[\"aeropuerto_destino\"]])), axis=1)\n",
    "df_distancias = df_distancias.drop_duplicates(subset=[\"sorted_key\"]).drop(columns=[\"sorted_key\"])"
   ]
  },
  {
   "cell_type": "markdown",
   "id": "0dd1de5c",
   "metadata": {},
   "source": [
    "Ahora en el dataframe de vuelos debemos transformar los datos de la columna \"fecha\" a formato datetime.date y los datos de las columnas de horas a formato datetime.time:"
   ]
  },
  {
   "cell_type": "code",
   "execution_count": 11,
   "id": "fe31741a",
   "metadata": {},
   "outputs": [
    {
     "name": "stderr",
     "output_type": "stream",
     "text": [
      "C:\\Users\\Genesis\\AppData\\Local\\Temp\\ipykernel_5392\\1364071989.py:7: UserWarning: Could not infer format, so each element will be parsed individually, falling back to `dateutil`. To ensure parsing is consistent and as-expected, please specify a format.\n",
      "  df_vuelos[i] = pd.to_datetime(df_vuelos[i]).dt.time\n",
      "C:\\Users\\Genesis\\AppData\\Local\\Temp\\ipykernel_5392\\1364071989.py:7: UserWarning: Could not infer format, so each element will be parsed individually, falling back to `dateutil`. To ensure parsing is consistent and as-expected, please specify a format.\n",
      "  df_vuelos[i] = pd.to_datetime(df_vuelos[i]).dt.time\n",
      "C:\\Users\\Genesis\\AppData\\Local\\Temp\\ipykernel_5392\\1364071989.py:7: UserWarning: Could not infer format, so each element will be parsed individually, falling back to `dateutil`. To ensure parsing is consistent and as-expected, please specify a format.\n",
      "  df_vuelos[i] = pd.to_datetime(df_vuelos[i]).dt.time\n",
      "C:\\Users\\Genesis\\AppData\\Local\\Temp\\ipykernel_5392\\1364071989.py:7: UserWarning: Could not infer format, so each element will be parsed individually, falling back to `dateutil`. To ensure parsing is consistent and as-expected, please specify a format.\n",
      "  df_vuelos[i] = pd.to_datetime(df_vuelos[i]).dt.time\n"
     ]
    }
   ],
   "source": [
    "df_vuelos[\"fecha\"] = pd.to_datetime(df_vuelos[\"fecha\"]).dt.date\n",
    "\n",
    "columnas_time = [\"hora_salida_programada\", \"hora_salida_real\", \"hora_despegue\", \"hora_llegada_real\"]\n",
    "\n",
    "for i in columnas_time:\n",
    "    df_vuelos[i] = df_vuelos[i].replace(\"24:00\", \"00:00\")\n",
    "    df_vuelos[i] = pd.to_datetime(df_vuelos[i]).dt.time"
   ]
  },
  {
   "cell_type": "markdown",
   "id": "ccbd6725",
   "metadata": {},
   "source": [
    "También eliminamos los valores duplicados de la columna número de vuelo, que es una PK en nuestra base de datos."
   ]
  },
  {
   "cell_type": "code",
   "execution_count": 12,
   "id": "285704c4",
   "metadata": {},
   "outputs": [],
   "source": [
    "df_vuelos = df_vuelos.drop_duplicates(subset=['numero_vuelo'])"
   ]
  },
  {
   "cell_type": "markdown",
   "id": "33706af9",
   "metadata": {},
   "source": [
    "Por último, convertimos todos los valores NaN's en None:"
   ]
  },
  {
   "cell_type": "code",
   "execution_count": 13,
   "id": "2efe3c7f",
   "metadata": {},
   "outputs": [],
   "source": [
    "dataframes = [df_aerolineas, df_aeropuertos, df_distancias, df_estados, df_vuelos]\n",
    "\n",
    "for df in dataframes:\n",
    "    df.fillna(np.nan, inplace=True)\n",
    "    df.replace([np.nan], [None], inplace=True)"
   ]
  },
  {
   "cell_type": "markdown",
   "id": "6339c991",
   "metadata": {},
   "source": [
    "Hemos acabado de preparar los datos pero ahora nos queda llenar nuestra base de datos en SQL con los datos de nuestros dataframes. Para empleamos el siguiente script:"
   ]
  },
  {
   "cell_type": "code",
   "execution_count": 14,
   "id": "ff65783a",
   "metadata": {},
   "outputs": [
    {
     "name": "stdout",
     "output_type": "stream",
     "text": [
      "Añadidas: 54 filas en 'estados' (Batch 1)\n",
      "Añadidas: 17 filas en 'aerolineas' (Batch 1)\n",
      "Añadidas: 363 filas en 'aeropuertos' (Batch 1)\n",
      "Añadidas: 1000 filas en 'distancias' (Batch 1)\n",
      "Añadidas: 1000 filas en 'distancias' (Batch 2)\n",
      "Añadidas: 977 filas en 'distancias' (Batch 3)\n",
      "Añadidas: 1000 filas en 'vuelos' (Batch 1)\n",
      "Añadidas: 1000 filas en 'vuelos' (Batch 2)\n",
      "Añadidas: 1000 filas en 'vuelos' (Batch 3)\n",
      "Añadidas: 1000 filas en 'vuelos' (Batch 4)\n",
      "Añadidas: 1000 filas en 'vuelos' (Batch 5)\n",
      "Añadidas: 1000 filas en 'vuelos' (Batch 6)\n",
      "Añadidas: 394 filas en 'vuelos' (Batch 7)\n"
     ]
    }
   ],
   "source": [
    "database = \"airlines\"\n",
    "\n",
    "tablas_dfs = {\"estados\": df_estados, \"aerolineas\": df_aerolineas, \"aeropuertos\": df_aeropuertos, \"distancias\": df_distancias, \"vuelos\": df_vuelos}\n",
    "\n",
    "batch_size = 1000  # Tuve que añadir un número máximo de filas por batch para no perder la conexión a MySQL\n",
    "\n",
    "db = mysql.connector.connect(host     = \"localhost\",\n",
    "                             user     = \"root\",\n",
    "                             password = \"password\",\n",
    "                             database = database)\n",
    "\n",
    "cursor = db.cursor()\n",
    "\n",
    "for tabla, df in tablas_dfs.items():\n",
    "    cursor.execute(f\"SELECT * FROM {tabla} LIMIT 0;\")\n",
    "    column_names = list(cursor.column_names)\n",
    "    cursor.fetchall()\n",
    "\n",
    "    insert_query = f\"INSERT INTO {tabla} ({', '.join(column_names)}) VALUES ({', '.join(['%s' for _ in column_names])})\".replace(\"'\", \"\")\n",
    "    df = df.where(pd.notnull(df), None)\n",
    "    values = [tuple(row) for row in df[column_names].values]\n",
    "\n",
    "    for i in range(0, len(values), batch_size):\n",
    "        batch = values[i : i + batch_size]\n",
    "        cursor.executemany(insert_query, batch)\n",
    "        db.commit()\n",
    "        print(f\"Añadidas: {cursor.rowcount} filas en '{tabla}' (Batch {i // batch_size + 1})\")\n",
    "        cursor.fetchall()\n",
    "\n",
    "cursor.close()\n",
    "db.close()"
   ]
  },
  {
   "cell_type": "markdown",
   "id": "b81dfc27",
   "metadata": {},
   "source": [
    "Ahora que ya tenemos nuestra base de datos lista, procedemos a realizar las queries que nos piden y contestarlas:"
   ]
  },
  {
   "cell_type": "markdown",
   "id": "2c23ea1a",
   "metadata": {},
   "source": [
    "1. ¿Que 5 aerolineas tienen el tamaño de flota más grande?\n",
    "\n",
    "Delta Air Lines, American Airlines, United Airlines, Southwest Airlines y SkyWest Airlines.\n",
    "\n",
    "2. ¿Que distancia (en millas) tardaría en ir desde **ATL** a **JAN**?\n",
    "\n",
    "341 millas.\n",
    "\n",
    "3. ¿Cual es la distancia más grande entre 2 aeropuertos? \n",
    "\n",
    "5095 millas.\n",
    "\n",
    "4. ¿Qué ciudad tiene más aeropuertos?\n",
    "\n",
    "Columbus.\n",
    "\n",
    "5. Usando la tabla de **vuelos**, ¿Que **aerolinea** tuvo la mayor cantidad de vuelos en todas las fechas?\n",
    "\n",
    "SWA.\n",
    "\n",
    "6. ¿Cuantas millas se recorrieron en total el día **2021-12-31**?\n",
    "\n",
    "6165 millas.\n",
    "\n",
    "7. Muestra en orden los 5 días con más retrasos y la media de retraso para cada día.\n",
    "\n",
    "2021-12-18, 2021-12-16, 2021-12-01, 2021-12-23 y 2021-12-05\n",
    "\n",
    "8. Muestra los nombres de las 10 aerolineas que tenga menos retraso que la media.\n",
    "\n",
    "Spirit Airlines, Republic Airways, Endeavor Air, Delta Air Lines, Envoy Air, Hawaiian Airlines, Frontier Airlines, SkyWest Airlines, Mesa Airlines y PSA Airlines.\n"
   ]
  },
  {
   "cell_type": "code",
   "execution_count": null,
   "id": "356b741a-c333-43e5-922e-2ad26415436b",
   "metadata": {},
   "outputs": [],
   "source": [
    "# Escribe aquí el código SQL para las queries.\n",
    "\n",
    "-- ¿Que 5 aerolineas tienen el tamaño de flota más grande?\n",
    "SELECT aerolinea, fleet_size\n",
    "FROM aerolineas\n",
    "ORDER BY fleet_size DESC\n",
    "LIMIT 5;\n",
    "\n",
    "-- ¿Que distancia (en millas) tardaría en ir desde **ATL** a **JAN**?\n",
    "SELECT distancia_millas\n",
    "FROM distancias\n",
    "WHERE aeropuerto_origen LIKE 'ATL' AND aeropuerto_destino LIKE 'JAN';\n",
    "\n",
    "-- ¿Cual es la distancia más grande entre 2 aeropuertos? \n",
    "SELECT distancia_millas\n",
    "FROM distancias\n",
    "ORDER BY distancia_millas DESC\n",
    "LIMIT 1;\n",
    "\n",
    "-- ¿Qué ciudad tiene más aeropuertos?\n",
    "SELECT ciudad, COUNT(codigo_aeropuerto) AS n_aeropuertos\n",
    "FROM aeropuertos\n",
    "GROUP BY ciudad\n",
    "ORDER BY n_aeropuertos DESC\n",
    "LIMIT 1;\n",
    "\n",
    "-- Usando la tabla de **vuelos**, ¿Que **aerolinea** tuvo la mayor cantidad de vuelos en todas las fechas?\n",
    "SELECT aerolinea, COUNT(*) AS n_vuelos\n",
    "FROM vuelos\n",
    "GROUP BY aerolinea\n",
    "ORDER BY n_vuelos DESC\n",
    "LIMIT 1;\n",
    "\n",
    "-- ¿Cuantas millas se recorrieron en total el día **2021-12-31**?\n",
    "SELECT SUM(distancia_millas)\n",
    "FROM vuelos v\n",
    "INNER JOIN distancias d ON v.aeropuerto_origen = d.aeropuerto_origen AND v.aeropuerto_destino = d.aeropuerto_destino\n",
    "WHERE fecha = \"2021-12-31\"\n",
    ";\n",
    "\n",
    "-- Muestra en orden los 5 días con más retrasos y la media de retraso para cada día.\n",
    "SELECT fecha, SUM(retraso_llegada) AS retraso, AVG(retraso_llegada) AS media_retraso\n",
    "FROM vuelos\n",
    "GROUP BY fecha\n",
    "ORDER BY retraso DESC\n",
    "LIMIT 5;\n",
    "\n",
    "-- Muestra los nombres de las 10 aerolineas que tenga menos retraso que la media.\n",
    "SELECT a.aerolinea, AVG(retraso_llegada) AS media_retraso\n",
    "FROM vuelos v\n",
    "INNER JOIN aerolineas a ON v.aerolinea=a.icao\n",
    "GROUP BY aerolinea\n",
    "HAVING media_retraso < (\n",
    "    SELECT AVG(retraso_llegada) FROM vuelos\n",
    ")\n",
    "ORDER BY media_retraso ASC\n",
    "LIMIT 10;"
   ]
  },
  {
   "cell_type": "code",
   "execution_count": 17,
   "id": "68b3b5f7-ad1d-46b8-878b-221c33bc7ed9",
   "metadata": {},
   "outputs": [],
   "source": [
    "##############################################################################################################################"
   ]
  }
 ],
 "metadata": {
  "kernelspec": {
   "display_name": "base",
   "language": "python",
   "name": "python3"
  },
  "language_info": {
   "codemirror_mode": {
    "name": "ipython",
    "version": 3
   },
   "file_extension": ".py",
   "mimetype": "text/x-python",
   "name": "python",
   "nbconvert_exporter": "python",
   "pygments_lexer": "ipython3",
   "version": "3.12.7"
  }
 },
 "nbformat": 4,
 "nbformat_minor": 5
}
