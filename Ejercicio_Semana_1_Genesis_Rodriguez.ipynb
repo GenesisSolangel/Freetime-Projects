{
 "cells": [
  {
   "cell_type": "markdown",
   "metadata": {},
   "source": [
    "**Semana 01/Ejercicio 01 - Generador de contraseñas aleatorias**"
   ]
  },
  {
   "cell_type": "markdown",
   "metadata": {},
   "source": [
    "- **Criterios**:\n",
    "\n",
    "    - La contraseña debe tener mínimo 12 caracteres y máximo 24 caracteres.\n",
    "\n",
    "    - La contraseña debe incluir al menos una letra minúscula, una letra mayúscula, un número y un carácter especial.\n",
    "        - Caracteres especiales: !@#$%^&\\*()-\\_+={}[]:;'<>,.?/\\\\|~`\n",
    "\n",
    "    - La contraseña debe ser generada usando la librería **random**.\n",
    "    - La contraseña debe ser una variable de tipo **string**.\n",
    "\n",
    "\n",
    "- **Implementación**:\n",
    "    - Comprobar que la contraseña generada cumple con los criterios del punto anterior.\n",
    "\n",
    "_**No uses este algoritmo para generar contraseñas de uso personal.**_\n"
   ]
  },
  {
   "cell_type": "markdown",
   "metadata": {},
   "source": [
    "Para poder empezar este ejercicio necesitamos primero descargar las librerías que nos hacen falta. En este caso sólo nos hace falta la librería **random** y para ello empleamos la siguiente línea de código (comentada con el carácter de almohadilla para no volver a instalarla continuamente):"
   ]
  },
  {
   "cell_type": "code",
   "execution_count": 2,
   "metadata": {},
   "outputs": [],
   "source": [
    "#pip install random"
   ]
  },
  {
   "cell_type": "markdown",
   "metadata": {},
   "source": [
    "A continuación, importamos la librería descargada previamente:"
   ]
  },
  {
   "cell_type": "code",
   "execution_count": null,
   "metadata": {},
   "outputs": [],
   "source": [
    "import random"
   ]
  },
  {
   "cell_type": "markdown",
   "metadata": {},
   "source": [
    "Ahora creamos nuestras variables, que serán listas de elementos requeridos en la contraseña. Empezaremos con la lista de caracteres en minúscula. Para ello, primero definimos una variable string con todos los caracteres del abecedario en minúscula y, con ayuda de un bucle **for** la convertiremos en una lista:"
   ]
  },
  {
   "cell_type": "code",
   "execution_count": 3,
   "metadata": {},
   "outputs": [],
   "source": [
    "abc = 'abcdefghijklmnopqrstuvwxyz'\n",
    "\n",
    "ch = [i for i in abc]\n",
    "ch\n"
   ]
  },
  {
   "cell_type": "markdown",
   "metadata": {},
   "source": [
    "Ahora hacemos lo mismo para conseguir una lista de los caracteres del abecedario en mayúscula, ayudándonos del comando **.upper()**:"
   ]
  },
  {
   "cell_type": "code",
   "execution_count": null,
   "metadata": {},
   "outputs": [],
   "source": [
    "chup = [i for i in abc.upper()]\n",
    "chup"
   ]
  },
  {
   "cell_type": "markdown",
   "metadata": {},
   "source": [
    "Del mismo modo, utilizamos el comando **range()** para generar una variable lista con números del 0 al 9:"
   ]
  },
  {
   "cell_type": "code",
   "execution_count": 4,
   "metadata": {},
   "outputs": [
    {
     "data": {
      "text/plain": [
       "[0, 1, 2, 3, 4, 5, 6, 7, 8, 9]"
      ]
     },
     "execution_count": 4,
     "metadata": {},
     "output_type": "execute_result"
    }
   ],
   "source": [
    "nums = [i for i in range(10)]\n",
    "nums"
   ]
  },
  {
   "cell_type": "markdown",
   "metadata": {},
   "source": [
    "Y, finalmente, generamos una lista de caracteres especiales:"
   ]
  },
  {
   "cell_type": "code",
   "execution_count": 5,
   "metadata": {},
   "outputs": [
    {
     "data": {
      "text/plain": [
       "['!',\n",
       " '@',\n",
       " '#',\n",
       " '$',\n",
       " '%',\n",
       " '^',\n",
       " '&',\n",
       " '*',\n",
       " '(',\n",
       " ')',\n",
       " '-',\n",
       " '_',\n",
       " '+',\n",
       " '=',\n",
       " '{',\n",
       " '}',\n",
       " '[',\n",
       " ']',\n",
       " ':',\n",
       " ';',\n",
       " \"'\",\n",
       " '<',\n",
       " '>',\n",
       " ',',\n",
       " '.',\n",
       " '?',\n",
       " '/',\n",
       " '\\\\',\n",
       " '|',\n",
       " '~',\n",
       " '`']"
      ]
     },
     "execution_count": 5,
     "metadata": {},
     "output_type": "execute_result"
    }
   ],
   "source": [
    "specials = \"!@#$%^&*()-_+={}[]:;'<>,.?/\\\\|~`\"\n",
    "sp_ch = [i for i in specials]\n",
    "sp_ch"
   ]
  },
  {
   "cell_type": "markdown",
   "metadata": {},
   "source": [
    "Ahora nos toca generar nuestra contraseña. Para ello definiremos una función llamada *ps_generator()*, la cual nos genera un string de tamaño entre 12 y 24 con elementos aleatorios de nuestras 4 listas creadas anteriormente:"
   ]
  },
  {
   "cell_type": "code",
   "execution_count": 34,
   "metadata": {},
   "outputs": [],
   "source": [
    "def ps_generator():\n",
    "    password_len = random.randint(12,24)\n",
    "    password_list = random.choices(population = ch+chup+nums+sp_ch, k = password_len)\n",
    "    password = \"\".join(str(i) for i in password_list)\n",
    "    return password"
   ]
  },
  {
   "cell_type": "markdown",
   "metadata": {},
   "source": [
    "Una vez definida nuestra función, debemos ejecutarla para conseguir nuestra contraseña aleatoria:"
   ]
  },
  {
   "cell_type": "code",
   "execution_count": 54,
   "metadata": {},
   "outputs": [
    {
     "data": {
      "text/plain": [
       "'+^u->l@FR#{KmCD<@)l'"
      ]
     },
     "execution_count": 54,
     "metadata": {},
     "output_type": "execute_result"
    }
   ],
   "source": [
    "ps_generator()"
   ]
  },
  {
   "cell_type": "markdown",
   "metadata": {},
   "source": [
    "Sin embargo, hay una pequeña probabilidad de que esta contraseña no cumpla con todos los requisitos ya que puede darse el caso de que no posea al menos una minúscula, o una mayúscula, o un número o un carácter especial. Es por eso que ahora debemos crear otra función que se encargue de comprobar que la contraseña generada anteriormente cumple con todos los criterios del enunciado. Esta función se llamará *conditions_met()* y compobrará, mediante bucles, que nuestra contraseña cumple con todo, dando como resultado True o False:"
   ]
  },
  {
   "cell_type": "code",
   "execution_count": 58,
   "metadata": {},
   "outputs": [
    {
     "name": "stdout",
     "output_type": "stream",
     "text": [
      "Tiene la longitud deseada\n",
      "Contiene al menos un número\n",
      "Contiene al menos una mayúscula\n",
      "Contiene al menos una minúscula\n",
      "Contiene al menos un caracter especial\n"
     ]
    },
    {
     "data": {
      "text/plain": [
       "True"
      ]
     },
     "execution_count": 58,
     "metadata": {},
     "output_type": "execute_result"
    }
   ],
   "source": [
    "def conditions_met(password):\n",
    "\n",
    "    lower_in_ps = False\n",
    "    upper_in_ps = False\n",
    "    num_in_ps = False\n",
    "    sp_in_ps = False\n",
    "\n",
    "    if len(password) < 12 or len(password) > 24:\n",
    "        print(\"Contraseña de longitud incorrecta\")\n",
    "        return False\n",
    "    else:\n",
    "        print(\"Tiene la longitud deseada\")\n",
    "    for i in password:\n",
    "        if lower_in_ps == False:\n",
    "            for j in ch:\n",
    "                if j == i:\n",
    "                    lower_in_ps = True\n",
    "                    print(\"Contiene al menos una minúscula\")\n",
    "                    break\n",
    "        if upper_in_ps == False:\n",
    "            for x in chup:\n",
    "                if x == i:\n",
    "                    upper_in_ps = True\n",
    "                    print(\"Contiene al menos una mayúscula\")\n",
    "                    break\n",
    "        if num_in_ps == False:\n",
    "            for z in nums:\n",
    "                if str(z) == i:\n",
    "                    num_in_ps = True\n",
    "                    print(\"Contiene al menos un número\")\n",
    "                    break\n",
    "        if sp_in_ps == False:\n",
    "            for y in sp_ch:\n",
    "                if y == i:\n",
    "                    sp_in_ps = True\n",
    "                    print(\"Contiene al menos un caracter especial\")\n",
    "                    break\n",
    "    return lower_in_ps & upper_in_ps & num_in_ps & sp_in_ps \n",
    "\n",
    "\n",
    "conditions_met(password)\n"
   ]
  },
  {
   "cell_type": "markdown",
   "metadata": {},
   "source": [
    "En el caso de que nuestra función anterior, *conditions_met()*, nos de False, necesitamos volver a generar una nueva contraseña aleatoria. Para ello generamos una variable *all_conditions_met()* que empiece siendo False y que, a través de un bucle **while**, acabe siendo True gracias a la generación automática de una nueva contraseña aleatoria cuando nuestra función *conditions_met()* es False."
   ]
  },
  {
   "cell_type": "code",
   "execution_count": 59,
   "metadata": {},
   "outputs": [
    {
     "name": "stdout",
     "output_type": "stream",
     "text": [
      "Tiene la longitud deseada\n",
      "Contiene al menos un número\n",
      "Contiene al menos una mayúscula\n",
      "Contiene al menos una minúscula\n",
      "Contiene al menos un caracter especial\n",
      "La contraseña cumple todas las condiciones\n"
     ]
    }
   ],
   "source": [
    "all_conditions_met = False\n",
    "while(all_conditions_met == False):\n",
    "    all_conditions_met = conditions_met(password)\n",
    "    if all_conditions_met == True:\n",
    "        print(\"La contraseña cumple todas las condiciones\")\n",
    "    else:\n",
    "        password = ps_generator()\n"
   ]
  },
  {
   "cell_type": "markdown",
   "metadata": {},
   "source": [
    "De esta forma, ejecutaremos el código anterior cuantas veces haga falta hasta conseguir una contraseña que cumpla todas las condiciones."
   ]
  }
 ],
 "metadata": {
  "kernelspec": {
   "display_name": "Python 3",
   "language": "python",
   "name": "python3"
  },
  "language_info": {
   "codemirror_mode": {
    "name": "ipython",
    "version": 3
   },
   "file_extension": ".py",
   "mimetype": "text/x-python",
   "name": "python",
   "nbconvert_exporter": "python",
   "pygments_lexer": "ipython3",
   "version": "3.12.0"
  }
 },
 "nbformat": 4,
 "nbformat_minor": 2
}
